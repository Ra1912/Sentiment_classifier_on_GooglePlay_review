{
 "cells": [
  {
   "cell_type": "markdown",
   "id": "10cda81e",
   "metadata": {},
   "source": [
    "# Google Play Reviews - Sentiment Classification & App Recommendation"
   ]
  },
  {
   "cell_type": "code",
   "execution_count": null,
   "id": "50a35077",
   "metadata": {},
   "outputs": [],
   "source": [
    "import pandas as pd\n",
    "import numpy as np\n",
    "import matplotlib.pyplot as plt\n",
    "import seaborn as sns\n",
    "from sklearn.model_selection import train_test_split\n",
    "from sklearn.feature_extraction.text import TfidfVectorizer\n",
    "from sklearn.linear_model import LogisticRegression\n",
    "from sklearn.metrics import classification_report, confusion_matrix\n",
    "import warnings\n",
    "warnings.filterwarnings('ignore')"
   ]
  },
  {
   "cell_type": "code",
   "execution_count": null,
   "id": "a6cd1afb",
   "metadata": {},
   "outputs": [],
   "source": [
    "# Load CSV files (place in the same folder as this notebook)\n",
    "apps_info = pd.read_csv(\"apps_info.csv\")\n",
    "apps_reviews = pd.read_csv(\"apps_reviews.csv\")"
   ]
  },
  {
   "cell_type": "code",
   "execution_count": null,
   "id": "f1952c02",
   "metadata": {},
   "outputs": [],
   "source": [
    "# Preprocess: Drop NA and filter short reviews\n",
    "apps_reviews.dropna(subset=['review_text', 'review_score'], inplace=True)\n",
    "apps_reviews = apps_reviews[apps_reviews['review_text'].str.len() > 10]\n",
    "\n",
    "# Define sentiment based on review_score\n",
    "def label_sentiment(score):\n",
    "    if score >= 4:\n",
    "        return 'positive'\n",
    "    elif score == 3:\n",
    "        return 'neutral'\n",
    "    else:\n",
    "        return 'negative'\n",
    "\n",
    "apps_reviews['sentiment'] = apps_reviews['review_score'].apply(label_sentiment)"
   ]
  },
  {
   "cell_type": "code",
   "execution_count": null,
   "id": "77b22ea9",
   "metadata": {},
   "outputs": [],
   "source": [
    "# Vectorize review text\n",
    "X = apps_reviews['review_text']\n",
    "y = apps_reviews['sentiment']\n",
    "\n",
    "vectorizer = TfidfVectorizer(max_features=5000, stop_words='english')\n",
    "X_vec = vectorizer.fit_transform(X)"
   ]
  },
  {
   "cell_type": "code",
   "execution_count": null,
   "id": "1e0f6a70",
   "metadata": {},
   "outputs": [],
   "source": [
    "# Train/test split and model training\n",
    "X_train, X_test, y_train, y_test = train_test_split(X_vec, y, test_size=0.2, random_state=42)\n",
    "model = LogisticRegression(max_iter=200)\n",
    "model.fit(X_train, y_train)"
   ]
  },
  {
   "cell_type": "code",
   "execution_count": null,
   "id": "946b1091",
   "metadata": {},
   "outputs": [],
   "source": [
    "# Evaluate model\n",
    "y_pred = model.predict(X_test)\n",
    "print(\"Classification Report:\\n\", classification_report(y_test, y_pred))\n",
    "\n",
    "# Confusion matrix\n",
    "sns.heatmap(confusion_matrix(y_test, y_pred), annot=True, fmt='d', cmap='Blues')\n",
    "plt.title(\"Confusion Matrix\")\n",
    "plt.xlabel(\"Predicted\")\n",
    "plt.ylabel(\"Actual\")\n",
    "plt.show()"
   ]
  },
  {
   "cell_type": "code",
   "execution_count": null,
   "id": "29dd933b",
   "metadata": {},
   "outputs": [],
   "source": [
    "# Recommend top apps based on positive sentiment\n",
    "positive_reviews = apps_reviews[apps_reviews['sentiment'] == 'positive']\n",
    "recommendation_df = positive_reviews.groupby('app_id').agg({\n",
    "    'review_text': 'count',\n",
    "    'helpful_count': 'sum'\n",
    "}).reset_index().rename(columns={'review_text': 'positive_review_count'})\n",
    "\n",
    "recommendation_df = recommendation_df.merge(apps_info, on='app_id')\n",
    "top_apps = recommendation_df.sort_values(by=['positive_review_count', 'helpful_count'], ascending=False).head(10)\n",
    "\n",
    "print(\"Top Recommended Apps Based on Positive Sentiment:\")\n",
    "print(top_apps[['app_id', 'app_name', 'positive_review_count', 'helpful_count']])"
   ]
  },
  {
   "cell_type": "code",
   "execution_count": null,
   "id": "5ca91f67",
   "metadata": {},
   "outputs": [],
   "source": [
    "# Save recommendations to CSV\n",
    "top_apps.to_csv(\"recommended_apps.csv\", index=False)"
   ]
  }
 ],
 "metadata": {},
 "nbformat": 4,
 "nbformat_minor": 5
}
